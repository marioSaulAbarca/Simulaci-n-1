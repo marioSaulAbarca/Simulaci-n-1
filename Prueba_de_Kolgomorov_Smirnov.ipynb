{
  "nbformat": 4,
  "nbformat_minor": 0,
  "metadata": {
    "colab": {
      "provenance": [],
      "authorship_tag": "ABX9TyPwBhJfMr6HzOQ2dlOX0rvL",
      "include_colab_link": true
    },
    "kernelspec": {
      "name": "python3",
      "display_name": "Python 3"
    },
    "language_info": {
      "name": "python"
    }
  },
  "cells": [
    {
      "cell_type": "markdown",
      "metadata": {
        "id": "view-in-github",
        "colab_type": "text"
      },
      "source": [
        "<a href=\"https://colab.research.google.com/github/marioSaulAbarca/Simulaci-n-1/blob/main/Prueba_de_Kolgomorov_Smirnov.ipynb\" target=\"_parent\"><img src=\"https://colab.research.google.com/assets/colab-badge.svg\" alt=\"Open In Colab\"/></a>"
      ]
    },
    {
      "cell_type": "code",
      "execution_count": 1,
      "metadata": {
        "colab": {
          "base_uri": "https://localhost:8080/"
        },
        "id": "ahCbFwEJsLPk",
        "outputId": "77c5d613-4e7d-4a4a-dbcc-aec9e2df9e8c"
      },
      "outputs": [
        {
          "output_type": "stream",
          "name": "stdout",
          "text": [
            "Cálculo manual de la prueba de Kolmogorov-Smirnov:\n",
            "D+ = 0.009000000000000008\n",
            "D- = 0.08300000000000002\n",
            "Estadístico D (max(D+, D-)) = 0.08300000000000002\n",
            "\n",
            "Resultado utilizando scipy.stats.kstest:\n",
            "Estadístico D: 0.08300000000000002\n",
            "Valor p: 0.4712020446047783\n",
            "\n",
            "No se puede rechazar la hipótesis nula: los datos podrían seguir una distribución uniforme.\n"
          ]
        }
      ],
      "source": [
        "import numpy as np\n",
        "from scipy.stats import kstest\n",
        "\n",
        "# Datos extraídos manualmente de la imagen\n",
        "datos = np.array([\n",
        "    [0.347, 0.832, 0.966, 0.472, 0.797, 0.101, 0.696, 0.966, 0.404, 0.603],\n",
        "    [0.993, 0.371, 0.729, 0.067, 0.189, 0.977, 0.843, 0.562, 0.549, 0.992],\n",
        "    [0.674, 0.628, 0.055, 0.494, 0.494, 0.235, 0.178, 0.775, 0.797, 0.252],\n",
        "    [0.426, 0.054, 0.022, 0.742, 0.674, 0.898, 0.641, 0.674, 0.821, 0.19],\n",
        "    [0.46, 0.224, 0.99, 0.786, 0.393, 0.461, 0.011, 0.977, 0.246, 0.881],\n",
        "    [0.189, 0.753, 0.73, 0.797, 0.292, 0.876, 0.707, 0.562, 0.562, 0.821],\n",
        "    [0.112, 0.191, 0.584, 0.347, 0.426, 0.057, 0.819, 0.303, 0.404, 0.64],\n",
        "    [0.37, 0.314, 0.731, 0.742, 0.213, 0.472, 0.641, 0.944, 0.28, 0.663],\n",
        "    [0.909, 0.764, 0.999, 0.303, 0.718, 0.933, 0.056, 0.415, 0.819, 0.444],\n",
        "    [0.178, 0.516, 0.437, 0.393, 0.268, 0.123, 0.945, 0.527, 0.459, 0.652]\n",
        "])\n",
        "\n",
        "# Convertir la matriz en un vector unidimensional\n",
        "datos = datos.flatten()\n",
        "\n",
        "# Tamaño de la muestra\n",
        "n = len(datos)\n",
        "\n",
        "# Ordenar los datos\n",
        "datos_sorted = np.sort(datos)\n",
        "\n",
        "# Para la distribución uniforme en [0,1], la función de distribución es F(x)=x.\n",
        "# Se definen:\n",
        "# D+ = max_{1<=i<=n} (i/n - F(x_i))  y\n",
        "# D- = max_{1<=i<=n} (F(x_i) - (i-1)/n)\n",
        "indices = np.arange(1, n + 1)\n",
        "\n",
        "D_plus = np.max(indices/n - datos_sorted)\n",
        "D_minus = np.max(datos_sorted - (indices - 1)/n)\n",
        "D_manual = max(D_plus, D_minus)\n",
        "\n",
        "print(\"Cálculo manual de la prueba de Kolmogorov-Smirnov:\")\n",
        "print(f\"D+ = {D_plus}\")\n",
        "print(f\"D- = {D_minus}\")\n",
        "print(f\"Estadístico D (max(D+, D-)) = {D_manual}\\n\")\n",
        "\n",
        "# Realizar la prueba de Kolmogorov-Smirnov utilizando scipy.stats.kstest\n",
        "# Se verifica la hipótesis nula de que los datos siguen una distribución uniforme en [0,1].\n",
        "D_scipy, p_value = kstest(datos, 'uniform')\n",
        "print(\"Resultado utilizando scipy.stats.kstest:\")\n",
        "print(f\"Estadístico D: {D_scipy}\")\n",
        "print(f\"Valor p: {p_value}\\n\")\n",
        "\n",
        "# Interpretación de los resultados\n",
        "if p_value > 0.05:\n",
        "    print(\"No se puede rechazar la hipótesis nula: los datos podrían seguir una distribución uniforme.\")\n",
        "else:\n",
        "    print(\"Se rechaza la hipótesis nula: los datos no siguen una distribución uniforme.\")"
      ]
    }
  ]
}