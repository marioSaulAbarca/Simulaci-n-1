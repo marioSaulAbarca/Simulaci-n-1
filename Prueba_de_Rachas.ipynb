{
  "nbformat": 4,
  "nbformat_minor": 0,
  "metadata": {
    "colab": {
      "provenance": [],
      "authorship_tag": "ABX9TyNOuouApHDymdjI3HZqaCVe",
      "include_colab_link": true
    },
    "kernelspec": {
      "name": "python3",
      "display_name": "Python 3"
    },
    "language_info": {
      "name": "python"
    }
  },
  "cells": [
    {
      "cell_type": "markdown",
      "metadata": {
        "id": "view-in-github",
        "colab_type": "text"
      },
      "source": [
        "<a href=\"https://colab.research.google.com/github/marioSaulAbarca/Simulaci-n-1/blob/main/Prueba_de_Rachas.ipynb\" target=\"_parent\"><img src=\"https://colab.research.google.com/assets/colab-badge.svg\" alt=\"Open In Colab\"/></a>"
      ]
    },
    {
      "cell_type": "code",
      "execution_count": null,
      "metadata": {
        "colab": {
          "base_uri": "https://localhost:8080/"
        },
        "id": "y5jUBYhLmibO",
        "outputId": "7d459a15-da98-4e91-b541-9e89a974a324"
      },
      "outputs": [
        {
          "output_type": "stream",
          "name": "stdout",
          "text": [
            "Número de rachas observadas: 16\n",
            "Esperanza teórica de rachas: 21.00\n",
            "Desviación estándar de rachas: 3.12\n",
            "Estadístico Z: -1.60\n",
            "p-valor: 0.1092\n",
            "No se rechaza la hipótesis de aleatoriedad (los datos parecen ser aleatorios).\n"
          ]
        }
      ],
      "source": [
        "import numpy as np\n",
        "import scipy.stats as stats\n",
        "\n",
        "datos = np.array([0.0449, 0.1733, 0.5746, 0.049, 0.8406, 0.8349, 0.92, 0.2564,\n",
        "    0.6015, 0.6694, 0.3972, 0.7025, 0.1055, 0.1247, 0.1977, 0.0125,\n",
        "    0.63, 0.2531, 0.8297, 0.6483, 0.6972, 0.9582, 0.9085, 0.8524,\n",
        "    0.5514, 0.0316, 0.3587, 0.7041, 0.5915, 0.2523, 0.2545, 0.3044,\n",
        "    0.0207, 0.1067, 0.3857, 0.1746, 0.3362, 0.1589, 0.3727, 0.4145])\n",
        "\n",
        "mediana = np.median(datos)\n",
        "\n",
        "secuencia = np.where(datos >= mediana, 1, 0)\n",
        "\n",
        "num_rachas = np.sum(np.diff(secuencia) != 0) + 1\n",
        "\n",
        "n1 = np.sum(secuencia)\n",
        "n2 = len(secuencia) - n1\n",
        "\n",
        "mu = (2 * n1 * n2) / (n1 + n2) + 1\n",
        "sigma = np.sqrt((2 * n1 * n2 * (2 * n1 * n2 - n1 - n2)) / ((n1 + n2) ** 2 * (n1 + n2 - 1)))\n",
        "\n",
        "Z = (num_rachas - mu) / sigma\n",
        "\n",
        "p_valor = 2 * (1 - stats.norm.cdf(abs(Z)))\n",
        "\n",
        "print(f\"Número de rachas observadas: {num_rachas}\")\n",
        "print(f\"Esperanza teórica de rachas: {mu:.2f}\")\n",
        "print(f\"Desviación estándar de rachas: {sigma:.2f}\")\n",
        "print(f\"Estadístico Z: {Z:.2f}\")\n",
        "print(f\"p-valor: {p_valor:.4f}\")\n",
        "\n",
        "alpha = 0.05\n",
        "if p_valor < alpha:\n",
        "    print(\"Se rechaza la hipótesis de aleatoriedad (los datos no son aleatorios).\")\n",
        "else:\n",
        "    print(\"No se rechaza la hipótesis de aleatoriedad (los datos parecen ser aleatorios).\")\n"
      ]
    }
  ]
}