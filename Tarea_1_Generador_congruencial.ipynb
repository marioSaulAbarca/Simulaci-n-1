{
  "nbformat": 4,
  "nbformat_minor": 0,
  "metadata": {
    "colab": {
      "provenance": [],
      "authorship_tag": "ABX9TyN0rd5RBVEuqVKSAOJcnxb8",
      "include_colab_link": true
    },
    "kernelspec": {
      "name": "python3",
      "display_name": "Python 3"
    },
    "language_info": {
      "name": "python"
    }
  },
  "cells": [
    {
      "cell_type": "markdown",
      "metadata": {
        "id": "view-in-github",
        "colab_type": "text"
      },
      "source": [
        "<a href=\"https://colab.research.google.com/github/marioSaulAbarca/Simulaci-n-1/blob/main/Tarea_1_Generador_congruencial.ipynb\" target=\"_parent\"><img src=\"https://colab.research.google.com/assets/colab-badge.svg\" alt=\"Open In Colab\"/></a>"
      ]
    },
    {
      "cell_type": "code",
      "execution_count": null,
      "metadata": {
        "id": "RWu998d0xJDW",
        "colab": {
          "base_uri": "https://localhost:8080/"
        },
        "outputId": "da4d6f05-7f8f-4ade-e936-4cc6a5cf024e"
      },
      "outputs": [
        {
          "output_type": "stream",
          "name": "stdout",
          "text": [
            "Ingrese el valor de a (multiplicador): 6\n",
            "Ingrese el valor de c (incremento): 12\n",
            "Ingrese el valor de m (módulo): 3\n",
            "Ingrese la semilla (X0): 10\n",
            "\n",
            "Secuencia generada:\n",
            "[10, 0]\n",
            "\n",
            "El ciclo comienza en el índice 1 con el valor 0.\n",
            "Longitud del ciclo: 1\n"
          ]
        }
      ],
      "source": [
        "def generador_congruencial(a, c, m, X0):\n",
        "    valores = []\n",
        "    Xn = X0\n",
        "\n",
        "    while Xn not in valores:  # Verifica si se repite un valor (ciclo)\n",
        "        valores.append(Xn)\n",
        "        Xn = (a * Xn + c) % m\n",
        "\n",
        "    ciclo_inicio = valores.index(Xn)\n",
        "    ciclo_longitud = len(valores) - ciclo_inicio\n",
        "\n",
        "    print(\"\\nSecuencia generada:\")\n",
        "    print(valores)\n",
        "    print(f\"\\nEl ciclo comienza en el índice {ciclo_inicio} con el valor {valores[ciclo_inicio]}.\")\n",
        "    print(f\"Longitud del ciclo: {ciclo_longitud}\")\n",
        "\n",
        "# Solicitar parámetros al usuario\n",
        "a = int(input(\"Ingrese el valor de a (multiplicador): \"))\n",
        "c = int(input(\"Ingrese el valor de c (incremento): \"))\n",
        "m = int(input(\"Ingrese el valor de m (módulo): \"))\n",
        "X0 = int(input(\"Ingrese la semilla (X0): \"))\n",
        "\n",
        "generador_congruencial(a, c, m, X0)"
      ]
    }
  ]
}